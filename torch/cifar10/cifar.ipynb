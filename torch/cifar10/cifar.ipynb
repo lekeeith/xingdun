{
 "cells": [],
 "metadata": {
  "kernelspec": {
   "display_name": "Python 3",
   "language": "python",
   "name": "python3"
  },
  "language_info": {
   "codemirror_mode": {
    "name": "ipython",
    "version": 2
   },
   "file_extension": ".py",
   "mimetype": "text/x-python",
   "name": "python",
   "nbconvert_exporter": "python",
   "pygments_lexer": "ipython2",
   "version": "2.7.6"
  },
  "pycharm": {
   "stem_cell": {
    "cell_type": "raw",
    "source": [
     "\n",
     "\n",
     "vless://c5a241dd-3c49-f67e-9e23-f7117b300b97@v2.qicao.xyz:443?security=tls&encryption=none&host=v2.qicao.xyz&headerType=none&type=tcp#v2.qicao.xyz_VLESS_TLS-direct_TCP"
    ],
    "metadata": {
     "collapsed": false
    }
   }
  }
 },
 "nbformat": 4,
 "nbformat_minor": 0
}